{
 "cells": [
  {
   "cell_type": "markdown",
   "metadata": {
    "slideshow": {
     "slide_type": "slide"
    }
   },
   "source": [
    "### Load tensorflow"
   ]
  },
  {
   "cell_type": "code",
   "execution_count": 1,
   "metadata": {},
   "outputs": [
    {
     "name": "stdout",
     "output_type": "stream",
     "text": [
      "WARNING:tensorflow:From C:\\Users\\552518\\Anaconda3\\lib\\site-packages\\tensorflow_core\\python\\compat\\v2_compat.py:65: disable_resource_variables (from tensorflow.python.ops.variable_scope) is deprecated and will be removed in a future version.\n",
      "Instructions for updating:\n",
      "non-resource variables are not supported in the long term\n"
     ]
    }
   ],
   "source": [
    "import tensorflow.compat.v1 as tf\n",
    "tf.disable_v2_behavior() \n",
    "tf.reset_default_graph()"
   ]
  },
  {
   "cell_type": "code",
   "execution_count": 2,
   "metadata": {},
   "outputs": [
    {
     "data": {
      "text/plain": [
       "'2.2.4-tf'"
      ]
     },
     "execution_count": 2,
     "metadata": {},
     "output_type": "execute_result"
    }
   ],
   "source": [
    "tf.keras.__version__"
   ]
  },
  {
   "cell_type": "code",
   "execution_count": 7,
   "metadata": {},
   "outputs": [],
   "source": [
    "from tensorflow.python import keras"
   ]
  },
  {
   "cell_type": "code",
   "execution_count": 8,
   "metadata": {},
   "outputs": [
    {
     "data": {
      "text/plain": [
       "'2.2.4-tf'"
      ]
     },
     "execution_count": 8,
     "metadata": {},
     "output_type": "execute_result"
    }
   ],
   "source": [
    "keras.__version__"
   ]
  },
  {
   "cell_type": "markdown",
   "metadata": {
    "slideshow": {
     "slide_type": "slide"
    }
   },
   "source": [
    "### Collect Data"
   ]
  },
  {
   "cell_type": "code",
   "execution_count": 9,
   "metadata": {},
   "outputs": [],
   "source": [
    "(features, actual_prices),_ = tf.keras.datasets.boston_housing.load_data(test_split=0)"
   ]
  },
  {
   "cell_type": "code",
   "execution_count": 10,
   "metadata": {
    "slideshow": {
     "slide_type": "fragment"
    }
   },
   "outputs": [
    {
     "name": "stdout",
     "output_type": "stream",
     "text": [
      "Number of examples:  506\n",
      "Number of features for each example:  13\n",
      "Shape of actual prices data:  (506,)\n"
     ]
    }
   ],
   "source": [
    "print('Number of examples: ', features.shape[0])\n",
    "print('Number of features for each example: ', features.shape[1])\n",
    "print('Shape of actual prices data: ', actual_prices.shape)"
   ]
  },
  {
   "cell_type": "markdown",
   "metadata": {
    "slideshow": {
     "slide_type": "slide"
    }
   },
   "source": [
    "### Building the graph in Keras"
   ]
  },
  {
   "cell_type": "code",
   "execution_count": 11,
   "metadata": {
    "slideshow": {
     "slide_type": "fragment"
    }
   },
   "outputs": [
    {
     "name": "stdout",
     "output_type": "stream",
     "text": [
      "WARNING:tensorflow:From C:\\Users\\552518\\Anaconda3\\lib\\site-packages\\tensorflow_core\\python\\ops\\resource_variable_ops.py:1630: calling BaseResourceVariable.__init__ (from tensorflow.python.ops.resource_variable_ops) with constraint is deprecated and will be removed in a future version.\n",
      "Instructions for updating:\n",
      "If using Keras pass *_constraint arguments to layers.\n"
     ]
    }
   ],
   "source": [
    "#Initialize Sequential Graph (model)\n",
    "model = tf.keras.models.Sequential()\n",
    "\n",
    "#Normalize input data\n",
    "model.add(tf.keras.layers.BatchNormalization(input_shape=(13,)))\n",
    "\n",
    "#Add Dense layer for prediction - Keras declares weights and bias automatically\n",
    "model.add(tf.keras.layers.Dense(1))\n",
    "\n",
    "#Compile the model - add Loss and Gradient Descent optimizer\n",
    "model.compile(optimizer='sgd', loss='mse')"
   ]
  },
  {
   "cell_type": "markdown",
   "metadata": {
    "slideshow": {
     "slide_type": "slide"
    }
   },
   "source": [
    "### Execute the Graph"
   ]
  },
  {
   "cell_type": "code",
   "execution_count": 12,
   "metadata": {
    "slideshow": {
     "slide_type": "fragment"
    }
   },
   "outputs": [
    {
     "name": "stdout",
     "output_type": "stream",
     "text": [
      "Train on 506 samples\n",
      "Epoch 1/100\n",
      "506/506 [==============================] - 2s 3ms/sample - loss: 167.6281\n",
      "Epoch 2/100\n",
      "506/506 [==============================] - 0s 172us/sample - loss: 34.0351\n",
      "Epoch 3/100\n",
      "506/506 [==============================] - ETA: 0s - loss: 30.95 - 0s 170us/sample - loss: 31.8348\n",
      "Epoch 4/100\n",
      "506/506 [==============================] - 0s 128us/sample - loss: 32.3061\n",
      "Epoch 5/100\n",
      "506/506 [==============================] - 0s 97us/sample - loss: 33.1374\n",
      "Epoch 6/100\n",
      "506/506 [==============================] - 0s 91us/sample - loss: 30.8764\n",
      "Epoch 7/100\n",
      "506/506 [==============================] - 0s 105us/sample - loss: 32.4067\n",
      "Epoch 8/100\n",
      "506/506 [==============================] - 0s 97us/sample - loss: 28.4964\n",
      "Epoch 9/100\n",
      "506/506 [==============================] - 0s 89us/sample - loss: 28.5121\n",
      "Epoch 10/100\n",
      "506/506 [==============================] - 0s 89us/sample - loss: 27.4814\n",
      "Epoch 11/100\n",
      "506/506 [==============================] - 0s 96us/sample - loss: 26.3788\n",
      "Epoch 12/100\n",
      "506/506 [==============================] - 0s 98us/sample - loss: 29.9170\n",
      "Epoch 13/100\n",
      "506/506 [==============================] - 0s 97us/sample - loss: 25.8649\n",
      "Epoch 14/100\n",
      "506/506 [==============================] - 0s 91us/sample - loss: 24.6793\n",
      "Epoch 15/100\n",
      "506/506 [==============================] - 0s 83us/sample - loss: 29.5624\n",
      "Epoch 16/100\n",
      "506/506 [==============================] - 0s 85us/sample - loss: 28.9868\n",
      "Epoch 17/100\n",
      "506/506 [==============================] - 0s 81us/sample - loss: 32.9331\n",
      "Epoch 18/100\n",
      "506/506 [==============================] - 0s 89us/sample - loss: 27.0931\n",
      "Epoch 19/100\n",
      "506/506 [==============================] - 0s 89us/sample - loss: 27.6404\n",
      "Epoch 20/100\n",
      "506/506 [==============================] - 0s 95us/sample - loss: 27.8094\n",
      "Epoch 21/100\n",
      "506/506 [==============================] - 0s 99us/sample - loss: 26.8393\n",
      "Epoch 22/100\n",
      "506/506 [==============================] - 0s 101us/sample - loss: 28.1003\n",
      "Epoch 23/100\n",
      "506/506 [==============================] - 0s 92us/sample - loss: 27.5733\n",
      "Epoch 24/100\n",
      "506/506 [==============================] - 0s 84us/sample - loss: 28.1855\n",
      "Epoch 25/100\n",
      "506/506 [==============================] - 0s 91us/sample - loss: 26.4152\n",
      "Epoch 26/100\n",
      "506/506 [==============================] - 0s 84us/sample - loss: 26.6976\n",
      "Epoch 27/100\n",
      "506/506 [==============================] - 0s 97us/sample - loss: 26.6298\n",
      "Epoch 28/100\n",
      "506/506 [==============================] - 0s 97us/sample - loss: 26.7166\n",
      "Epoch 29/100\n",
      "506/506 [==============================] - 0s 90us/sample - loss: 26.0690\n",
      "Epoch 30/100\n",
      "506/506 [==============================] - 0s 88us/sample - loss: 30.8645\n",
      "Epoch 31/100\n",
      "506/506 [==============================] - 0s 90us/sample - loss: 27.0975\n",
      "Epoch 32/100\n",
      "506/506 [==============================] - 0s 77us/sample - loss: 32.0681\n",
      "Epoch 33/100\n",
      "506/506 [==============================] - 0s 93us/sample - loss: 28.6708\n",
      "Epoch 34/100\n",
      "506/506 [==============================] - 0s 94us/sample - loss: 29.3472\n",
      "Epoch 35/100\n",
      "506/506 [==============================] - 0s 93us/sample - loss: 28.3891\n",
      "Epoch 36/100\n",
      "506/506 [==============================] - 0s 102us/sample - loss: 28.9925\n",
      "Epoch 37/100\n",
      "506/506 [==============================] - 0s 89us/sample - loss: 28.4511\n",
      "Epoch 38/100\n",
      "506/506 [==============================] - 0s 67us/sample - loss: 29.6692\n",
      "Epoch 39/100\n",
      "506/506 [==============================] - 0s 90us/sample - loss: 24.6320\n",
      "Epoch 40/100\n",
      "506/506 [==============================] - 0s 95us/sample - loss: 29.3851\n",
      "Epoch 41/100\n",
      "506/506 [==============================] - 0s 95us/sample - loss: 26.0135\n",
      "Epoch 42/100\n",
      "506/506 [==============================] - 0s 79us/sample - loss: 30.2074\n",
      "Epoch 43/100\n",
      "506/506 [==============================] - 0s 79us/sample - loss: 23.7061\n",
      "Epoch 44/100\n",
      "506/506 [==============================] - 0s 79us/sample - loss: 25.1580\n",
      "Epoch 45/100\n",
      "506/506 [==============================] - 0s 77us/sample - loss: 27.9621\n",
      "Epoch 46/100\n",
      "506/506 [==============================] - 0s 102us/sample - loss: 27.3532\n",
      "Epoch 47/100\n",
      "506/506 [==============================] - 0s 81us/sample - loss: 29.8598\n",
      "Epoch 48/100\n",
      "506/506 [==============================] - 0s 85us/sample - loss: 28.7033\n",
      "Epoch 49/100\n",
      "506/506 [==============================] - 0s 99us/sample - loss: 31.8434\n",
      "Epoch 50/100\n",
      "506/506 [==============================] - 0s 69us/sample - loss: 26.5786\n",
      "Epoch 51/100\n",
      "506/506 [==============================] - 0s 112us/sample - loss: 29.4987\n",
      "Epoch 52/100\n",
      "506/506 [==============================] - 0s 105us/sample - loss: 26.8466\n",
      "Epoch 53/100\n",
      "506/506 [==============================] - 0s 85us/sample - loss: 32.0846\n",
      "Epoch 54/100\n",
      "506/506 [==============================] - 0s 75us/sample - loss: 28.9315\n",
      "Epoch 55/100\n",
      "506/506 [==============================] - 0s 81us/sample - loss: 27.2008\n",
      "Epoch 56/100\n",
      "506/506 [==============================] - 0s 78us/sample - loss: 29.0860\n",
      "Epoch 57/100\n",
      "506/506 [==============================] - 0s 79us/sample - loss: 29.6746\n",
      "Epoch 58/100\n",
      "506/506 [==============================] - 0s 73us/sample - loss: 25.4072\n",
      "Epoch 59/100\n",
      "506/506 [==============================] - 0s 69us/sample - loss: 28.6947\n",
      "Epoch 60/100\n",
      "506/506 [==============================] - 0s 76us/sample - loss: 27.3330\n",
      "Epoch 61/100\n",
      "506/506 [==============================] - 0s 77us/sample - loss: 27.3863\n",
      "Epoch 62/100\n",
      "506/506 [==============================] - 0s 83us/sample - loss: 27.8965\n",
      "Epoch 63/100\n",
      "506/506 [==============================] - 0s 83us/sample - loss: 29.7890\n",
      "Epoch 64/100\n",
      "506/506 [==============================] - 0s 61us/sample - loss: 26.1102\n",
      "Epoch 65/100\n",
      "506/506 [==============================] - 0s 63us/sample - loss: 30.1672\n",
      "Epoch 66/100\n",
      "506/506 [==============================] - 0s 75us/sample - loss: 26.3236\n",
      "Epoch 67/100\n",
      "506/506 [==============================] - 0s 77us/sample - loss: 30.0962\n",
      "Epoch 68/100\n",
      "506/506 [==============================] - 0s 75us/sample - loss: 29.5761\n",
      "Epoch 69/100\n",
      "506/506 [==============================] - 0s 71us/sample - loss: 24.2940\n",
      "Epoch 70/100\n",
      "506/506 [==============================] - 0s 77us/sample - loss: 25.7148\n",
      "Epoch 71/100\n",
      "506/506 [==============================] - 0s 73us/sample - loss: 32.8778\n",
      "Epoch 72/100\n",
      "506/506 [==============================] - 0s 70us/sample - loss: 29.4599\n",
      "Epoch 73/100\n",
      "506/506 [==============================] - 0s 77us/sample - loss: 30.9014\n",
      "Epoch 74/100\n",
      "506/506 [==============================] - 0s 71us/sample - loss: 29.4430\n",
      "Epoch 75/100\n",
      "506/506 [==============================] - 0s 80us/sample - loss: 25.2324\n",
      "Epoch 76/100\n",
      "506/506 [==============================] - 0s 75us/sample - loss: 28.3745\n",
      "Epoch 77/100\n",
      "506/506 [==============================] - 0s 81us/sample - loss: 26.1427\n",
      "Epoch 78/100\n",
      "506/506 [==============================] - 0s 71us/sample - loss: 25.5168\n",
      "Epoch 79/100\n",
      "506/506 [==============================] - 0s 69us/sample - loss: 32.6858\n",
      "Epoch 80/100\n",
      "506/506 [==============================] - 0s 69us/sample - loss: 31.8925\n",
      "Epoch 81/100\n",
      "506/506 [==============================] - 0s 83us/sample - loss: 28.9274\n",
      "Epoch 82/100\n",
      "506/506 [==============================] - 0s 67us/sample - loss: 28.1898\n",
      "Epoch 83/100\n",
      "506/506 [==============================] - 0s 69us/sample - loss: 27.9749\n",
      "Epoch 84/100\n",
      "506/506 [==============================] - 0s 71us/sample - loss: 26.3237\n",
      "Epoch 85/100\n",
      "506/506 [==============================] - 0s 69us/sample - loss: 28.3560\n",
      "Epoch 86/100\n",
      "506/506 [==============================] - 0s 61us/sample - loss: 25.5819\n",
      "Epoch 87/100\n",
      "506/506 [==============================] - 0s 73us/sample - loss: 25.7819\n",
      "Epoch 88/100\n",
      "506/506 [==============================] - 0s 85us/sample - loss: 28.2809\n",
      "Epoch 89/100\n",
      "506/506 [==============================] - 0s 65us/sample - loss: 28.9215\n",
      "Epoch 90/100\n",
      "506/506 [==============================] - 0s 63us/sample - loss: 30.5581\n",
      "Epoch 91/100\n",
      "506/506 [==============================] - 0s 67us/sample - loss: 29.3013\n",
      "Epoch 92/100\n",
      "506/506 [==============================] - 0s 61us/sample - loss: 25.8598\n",
      "Epoch 93/100\n",
      "506/506 [==============================] - 0s 63us/sample - loss: 29.3146\n",
      "Epoch 94/100\n"
     ]
    },
    {
     "name": "stdout",
     "output_type": "stream",
     "text": [
      "506/506 [==============================] - 0s 63us/sample - loss: 23.9117\n",
      "Epoch 95/100\n",
      "506/506 [==============================] - 0s 88us/sample - loss: 28.6772\n",
      "Epoch 96/100\n",
      "506/506 [==============================] - 0s 77us/sample - loss: 27.9525\n",
      "Epoch 97/100\n",
      "506/506 [==============================] - 0s 73us/sample - loss: 27.7829\n",
      "Epoch 98/100\n",
      "506/506 [==============================] - 0s 70us/sample - loss: 29.0438\n",
      "Epoch 99/100\n",
      "506/506 [==============================] - 0s 73us/sample - loss: 29.8965\n",
      "Epoch 100/100\n",
      "506/506 [==============================] - 0s 65us/sample - loss: 25.1498\n"
     ]
    },
    {
     "data": {
      "text/plain": [
       "<tensorflow.python.keras.callbacks.History at 0x16ef8bf8948>"
      ]
     },
     "execution_count": 12,
     "metadata": {},
     "output_type": "execute_result"
    }
   ],
   "source": [
    "model.fit(features, actual_prices, epochs=100)"
   ]
  },
  {
   "cell_type": "markdown",
   "metadata": {
    "slideshow": {
     "slide_type": "slide"
    }
   },
   "source": [
    "### Save the model"
   ]
  },
  {
   "cell_type": "code",
   "execution_count": 13,
   "metadata": {
    "slideshow": {
     "slide_type": "fragment"
    }
   },
   "outputs": [],
   "source": [
    "model.save('boston_housing_lr.h5')"
   ]
  },
  {
   "cell_type": "code",
   "execution_count": null,
   "metadata": {},
   "outputs": [],
   "source": []
  }
 ],
 "metadata": {
  "kernelspec": {
   "display_name": "Python 3",
   "language": "python",
   "name": "python3"
  },
  "language_info": {
   "codemirror_mode": {
    "name": "ipython",
    "version": 3
   },
   "file_extension": ".py",
   "mimetype": "text/x-python",
   "name": "python",
   "nbconvert_exporter": "python",
   "pygments_lexer": "ipython3",
   "version": "3.7.6"
  }
 },
 "nbformat": 4,
 "nbformat_minor": 2
}
