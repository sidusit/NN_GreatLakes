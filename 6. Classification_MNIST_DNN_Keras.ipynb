{
 "cells": [
  {
   "cell_type": "markdown",
   "metadata": {
    "slideshow": {
     "slide_type": "slide"
    }
   },
   "source": [
    "### Load tensorflow"
   ]
  },
  {
   "cell_type": "code",
   "execution_count": 1,
   "metadata": {},
   "outputs": [
    {
     "name": "stdout",
     "output_type": "stream",
     "text": [
      "WARNING:tensorflow:From C:\\Users\\552518\\Anaconda3\\lib\\site-packages\\tensorflow_core\\python\\compat\\v2_compat.py:65: disable_resource_variables (from tensorflow.python.ops.variable_scope) is deprecated and will be removed in a future version.\n",
      "Instructions for updating:\n",
      "non-resource variables are not supported in the long term\n"
     ]
    }
   ],
   "source": [
    "import tensorflow.compat.v1 as tf\n",
    "tf.disable_v2_behavior() \n",
    "tf.reset_default_graph()\n",
    "tf.set_random_seed(42)"
   ]
  },
  {
   "cell_type": "markdown",
   "metadata": {
    "slideshow": {
     "slide_type": "slide"
    }
   },
   "source": [
    "### Collect Data"
   ]
  },
  {
   "cell_type": "code",
   "execution_count": 2,
   "metadata": {},
   "outputs": [
    {
     "name": "stdout",
     "output_type": "stream",
     "text": [
      "Downloading data from https://storage.googleapis.com/tensorflow/tf-keras-datasets/mnist.npz\n",
      "11493376/11490434 [==============================] - 1s 0us/step\n"
     ]
    }
   ],
   "source": [
    "(trainX, trainY),(testX, testY) = tf.keras.datasets.mnist.load_data()"
   ]
  },
  {
   "cell_type": "markdown",
   "metadata": {
    "slideshow": {
     "slide_type": "slide"
    }
   },
   "source": [
    "### Convert Output label to multiple values"
   ]
  },
  {
   "cell_type": "code",
   "execution_count": 3,
   "metadata": {},
   "outputs": [],
   "source": [
    "trainY = tf.keras.utils.to_categorical(trainY, num_classes=10)\n",
    "testY = tf.keras.utils.to_categorical(testY, num_classes=10)"
   ]
  },
  {
   "cell_type": "markdown",
   "metadata": {
    "slideshow": {
     "slide_type": "slide"
    }
   },
   "source": [
    "## Build the Graph"
   ]
  },
  {
   "cell_type": "code",
   "execution_count": 4,
   "metadata": {},
   "outputs": [
    {
     "name": "stdout",
     "output_type": "stream",
     "text": [
      "WARNING:tensorflow:From C:\\Users\\552518\\Anaconda3\\lib\\site-packages\\tensorflow_core\\python\\ops\\resource_variable_ops.py:1630: calling BaseResourceVariable.__init__ (from tensorflow.python.ops.resource_variable_ops) with constraint is deprecated and will be removed in a future version.\n",
      "Instructions for updating:\n",
      "If using Keras pass *_constraint arguments to layers.\n"
     ]
    }
   ],
   "source": [
    "#Initialize Sequential model\n",
    "model = tf.keras.models.Sequential()\n",
    "\n",
    "#Reshape data from 2D to 1D -> 28x28 to 784\n",
    "model.add(tf.keras.layers.Reshape((784,),input_shape=(28,28,)))\n",
    "\n",
    "#Normalize the data\n",
    "model.add(tf.keras.layers.BatchNormalization())"
   ]
  },
  {
   "cell_type": "markdown",
   "metadata": {
    "slideshow": {
     "slide_type": "slide"
    }
   },
   "source": [
    "## Build the Graph..."
   ]
  },
  {
   "cell_type": "code",
   "execution_count": 5,
   "metadata": {
    "slideshow": {
     "slide_type": "fragment"
    }
   },
   "outputs": [],
   "source": [
    "#Add 1st hidden layer\n",
    "model.add(tf.keras.layers.Dense(200, activation='sigmoid'))"
   ]
  },
  {
   "cell_type": "code",
   "execution_count": 6,
   "metadata": {
    "slideshow": {
     "slide_type": "fragment"
    }
   },
   "outputs": [],
   "source": [
    "#Add 2nd hidden layer\n",
    "model.add(tf.keras.layers.Dense(100, activation='sigmoid'))"
   ]
  },
  {
   "cell_type": "code",
   "execution_count": 7,
   "metadata": {
    "slideshow": {
     "slide_type": "fragment"
    }
   },
   "outputs": [],
   "source": [
    "#Add 3rd hidden layer\n",
    "model.add(tf.keras.layers.Dense(60, activation='sigmoid'))"
   ]
  },
  {
   "cell_type": "code",
   "execution_count": 8,
   "metadata": {
    "slideshow": {
     "slide_type": "fragment"
    }
   },
   "outputs": [],
   "source": [
    "#Add 4th hidden layer\n",
    "model.add(tf.keras.layers.Dense(30, activation='sigmoid'))"
   ]
  },
  {
   "cell_type": "code",
   "execution_count": 9,
   "metadata": {
    "slideshow": {
     "slide_type": "fragment"
    }
   },
   "outputs": [],
   "source": [
    "#Add OUTPUT layer\n",
    "model.add(tf.keras.layers.Dense(10, activation='softmax'))"
   ]
  },
  {
   "cell_type": "markdown",
   "metadata": {
    "slideshow": {
     "slide_type": "slide"
    }
   },
   "source": [
    "## Build the Graph..."
   ]
  },
  {
   "cell_type": "code",
   "execution_count": 10,
   "metadata": {
    "slideshow": {
     "slide_type": "fragment"
    }
   },
   "outputs": [],
   "source": [
    "#Create optimizer with non-default learning rate\n",
    "sgd_optimizer = tf.keras.optimizers.SGD(lr=0.03)\n",
    "\n",
    "#Compile the model\n",
    "model.compile(optimizer=sgd_optimizer, loss='categorical_crossentropy', metrics=['accuracy'])"
   ]
  },
  {
   "cell_type": "markdown",
   "metadata": {
    "slideshow": {
     "slide_type": "slide"
    }
   },
   "source": [
    "## Review model"
   ]
  },
  {
   "cell_type": "code",
   "execution_count": 11,
   "metadata": {},
   "outputs": [
    {
     "name": "stdout",
     "output_type": "stream",
     "text": [
      "Model: \"sequential\"\n",
      "_________________________________________________________________\n",
      "Layer (type)                 Output Shape              Param #   \n",
      "=================================================================\n",
      "reshape (Reshape)            (None, 784)               0         \n",
      "_________________________________________________________________\n",
      "batch_normalization (BatchNo (None, 784)               3136      \n",
      "_________________________________________________________________\n",
      "dense (Dense)                (None, 200)               157000    \n",
      "_________________________________________________________________\n",
      "dense_1 (Dense)              (None, 100)               20100     \n",
      "_________________________________________________________________\n",
      "dense_2 (Dense)              (None, 60)                6060      \n",
      "_________________________________________________________________\n",
      "dense_3 (Dense)              (None, 30)                1830      \n",
      "_________________________________________________________________\n",
      "dense_4 (Dense)              (None, 10)                310       \n",
      "=================================================================\n",
      "Total params: 188,436\n",
      "Trainable params: 186,868\n",
      "Non-trainable params: 1,568\n",
      "_________________________________________________________________\n"
     ]
    }
   ],
   "source": [
    "model.summary()"
   ]
  },
  {
   "cell_type": "markdown",
   "metadata": {
    "slideshow": {
     "slide_type": "slide"
    }
   },
   "source": [
    "## Train the model"
   ]
  },
  {
   "cell_type": "code",
   "execution_count": 12,
   "metadata": {},
   "outputs": [
    {
     "name": "stdout",
     "output_type": "stream",
     "text": [
      "Train on 60000 samples, validate on 10000 samples\n",
      "Epoch 1/30\n",
      "60000/60000 [==============================] - 4s 75us/sample - loss: 2.2956 - acc: 0.1339 - val_loss: 2.2735 - val_acc: 0.2075\n",
      "Epoch 2/30\n",
      "60000/60000 [==============================] - 4s 70us/sample - loss: 2.0962 - acc: 0.2645 - val_loss: 1.7841 - val_acc: 0.3535\n",
      "Epoch 3/30\n",
      "60000/60000 [==============================] - 4s 69us/sample - loss: 1.5172 - acc: 0.4918 - val_loss: 1.1757 - val_acc: 0.6560\n",
      "Epoch 4/30\n",
      "60000/60000 [==============================] - 4s 74us/sample - loss: 0.9808 - acc: 0.7178 - val_loss: 0.7506 - val_acc: 0.7930\n",
      "Epoch 5/30\n",
      "60000/60000 [==============================] - 5s 84us/sample - loss: 0.7051 - acc: 0.8046 - val_loss: 0.5679 - val_acc: 0.8534\n",
      "Epoch 6/30\n",
      "60000/60000 [==============================] - 5s 76us/sample - loss: 0.5449 - acc: 0.8533 - val_loss: 0.4388 - val_acc: 0.8899\n",
      "Epoch 7/30\n",
      "60000/60000 [==============================] - 5s 81us/sample - loss: 0.4375 - acc: 0.8815 - val_loss: 0.3655 - val_acc: 0.9051\n",
      "Epoch 8/30\n",
      "60000/60000 [==============================] - 5s 80us/sample - loss: 0.3671 - acc: 0.9001 - val_loss: 0.3073 - val_acc: 0.9189\n",
      "Epoch 9/30\n",
      "60000/60000 [==============================] - 5s 80us/sample - loss: 0.3197 - acc: 0.9122 - val_loss: 0.2778 - val_acc: 0.9304\n",
      "Epoch 10/30\n",
      "60000/60000 [==============================] - 6s 95us/sample - loss: 0.2838 - acc: 0.9221 - val_loss: 0.2540 - val_acc: 0.9350\n",
      "Epoch 11/30\n",
      "60000/60000 [==============================] - 5s 77us/sample - loss: 0.2519 - acc: 0.9299 - val_loss: 0.2326 - val_acc: 0.9409\n",
      "Epoch 12/30\n",
      "60000/60000 [==============================] - 5s 82us/sample - loss: 0.2314 - acc: 0.9359 - val_loss: 0.2221 - val_acc: 0.9419\n",
      "Epoch 13/30\n",
      "60000/60000 [==============================] - 5s 87us/sample - loss: 0.2066 - acc: 0.9428 - val_loss: 0.2184 - val_acc: 0.9455\n",
      "Epoch 14/30\n",
      "60000/60000 [==============================] - 5s 89us/sample - loss: 0.1884 - acc: 0.9484 - val_loss: 0.1961 - val_acc: 0.9499\n",
      "Epoch 15/30\n",
      "60000/60000 [==============================] - 5s 87us/sample - loss: 0.1715 - acc: 0.9530 - val_loss: 0.1913 - val_acc: 0.9519\n",
      "Epoch 16/30\n",
      "60000/60000 [==============================] - 5s 89us/sample - loss: 0.1558 - acc: 0.9568 - val_loss: 0.1820 - val_acc: 0.9527\n",
      "Epoch 17/30\n",
      "60000/60000 [==============================] - 6s 99us/sample - loss: 0.1404 - acc: 0.9615 - val_loss: 0.1834 - val_acc: 0.9526\n",
      "Epoch 18/30\n",
      "60000/60000 [==============================] - 6s 93us/sample - loss: 0.1300 - acc: 0.9636 - val_loss: 0.1671 - val_acc: 0.9560\n",
      "Epoch 19/30\n",
      "60000/60000 [==============================] - 5s 83us/sample - loss: 0.1205 - acc: 0.9664 - val_loss: 0.1741 - val_acc: 0.9547\n",
      "Epoch 20/30\n",
      "60000/60000 [==============================] - 5s 83us/sample - loss: 0.1114 - acc: 0.9685 - val_loss: 0.1570 - val_acc: 0.9580\n",
      "Epoch 21/30\n",
      "60000/60000 [==============================] - 5s 83us/sample - loss: 0.1036 - acc: 0.9712 - val_loss: 0.1492 - val_acc: 0.9622\n",
      "Epoch 22/30\n",
      "60000/60000 [==============================] - 5s 82us/sample - loss: 0.0978 - acc: 0.9720 - val_loss: 0.1550 - val_acc: 0.9606\n",
      "Epoch 23/30\n",
      "60000/60000 [==============================] - 5s 78us/sample - loss: 0.0911 - acc: 0.9741 - val_loss: 0.1660 - val_acc: 0.9576\n",
      "Epoch 24/30\n",
      "60000/60000 [==============================] - 4s 74us/sample - loss: 0.0851 - acc: 0.9757 - val_loss: 0.1537 - val_acc: 0.9616\n",
      "Epoch 25/30\n",
      "60000/60000 [==============================] - 4s 72us/sample - loss: 0.0780 - acc: 0.9776 - val_loss: 0.1478 - val_acc: 0.9633\n",
      "Epoch 26/30\n",
      "60000/60000 [==============================] - 5s 76us/sample - loss: 0.0730 - acc: 0.9788 - val_loss: 0.1521 - val_acc: 0.9613\n",
      "Epoch 27/30\n",
      "60000/60000 [==============================] - 4s 75us/sample - loss: 0.0707 - acc: 0.9791 - val_loss: 0.1461 - val_acc: 0.9653\n",
      "Epoch 28/30\n",
      "60000/60000 [==============================] - 4s 74us/sample - loss: 0.0642 - acc: 0.9815 - val_loss: 0.1460 - val_acc: 0.9645\n",
      "Epoch 29/30\n",
      "60000/60000 [==============================] - 4s 75us/sample - loss: 0.0597 - acc: 0.9831 - val_loss: 0.1469 - val_acc: 0.9647\n",
      "Epoch 30/30\n",
      "60000/60000 [==============================] - 4s 73us/sample - loss: 0.0562 - acc: 0.9835 - val_loss: 0.1398 - val_acc: 0.9641\n"
     ]
    },
    {
     "data": {
      "text/plain": [
       "<tensorflow.python.keras.callbacks.History at 0x15a7b862348>"
      ]
     },
     "execution_count": 12,
     "metadata": {},
     "output_type": "execute_result"
    }
   ],
   "source": [
    "model.fit(trainX,trainY,          \n",
    "          validation_data=(testX,testY),\n",
    "          epochs=30,\n",
    "          batch_size=32)"
   ]
  },
  {
   "cell_type": "code",
   "execution_count": null,
   "metadata": {},
   "outputs": [],
   "source": []
  }
 ],
 "metadata": {
  "kernelspec": {
   "display_name": "Python 3",
   "language": "python",
   "name": "python3"
  },
  "language_info": {
   "codemirror_mode": {
    "name": "ipython",
    "version": 3
   },
   "file_extension": ".py",
   "mimetype": "text/x-python",
   "name": "python",
   "nbconvert_exporter": "python",
   "pygments_lexer": "ipython3",
   "version": "3.7.6"
  }
 },
 "nbformat": 4,
 "nbformat_minor": 2
}
